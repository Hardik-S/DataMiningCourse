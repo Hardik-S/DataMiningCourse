{
  "nbformat": 4,
  "nbformat_minor": 0,
  "metadata": {
    "kernelspec": {
      "name": "python3",
      "display_name": "Python 3"
    },
    "colab": {
      "name": "DM_08_04.ipynb",
      "provenance": [],
      "toc_visible": true,
      "include_colab_link": true
    }
  },
  "cells": [
    {
      "cell_type": "markdown",
      "metadata": {
        "id": "view-in-github",
        "colab_type": "text"
      },
      "source": [
        "<a href=\"https://colab.research.google.com/github/Hardik-S/DataMiningCourse/blob/master/DM_08_04.ipynb\" target=\"_parent\"><img src=\"https://colab.research.google.com/assets/colab-badge.svg\" alt=\"Open In Colab\"/></a>"
      ]
    },
    {
      "cell_type": "markdown",
      "metadata": {
        "id": "G3REA9ksZjbm",
        "colab_type": "text"
      },
      "source": [
        "# DM_08_04\n",
        "## Import packages\n",
        "We'll create a hidden Markov model to examine the state-shifting in the dataset."
      ]
    },
    {
      "cell_type": "code",
      "metadata": {
        "id": "m_wJa4AcaIHR",
        "colab_type": "code",
        "colab": {
          "base_uri": "https://localhost:8080/",
          "height": 193
        },
        "outputId": "f52b7c90-fa0b-4824-fc6f-c00fabbd06da"
      },
      "source": [
        "! pip install hmmlearn"
      ],
      "execution_count": 8,
      "outputs": [
        {
          "output_type": "stream",
          "text": [
            "Collecting hmmlearn\n",
            "\u001b[?25l  Downloading https://files.pythonhosted.org/packages/ff/7b/33f629a443a0671161c019e55c3f1b511c7e9fdce5ab8c8c3c33470eb939/hmmlearn-0.2.3-cp36-cp36m-manylinux1_x86_64.whl (363kB)\n",
            "\r\u001b[K     |█                               | 10kB 22.6MB/s eta 0:00:01\r\u001b[K     |█▉                              | 20kB 29.0MB/s eta 0:00:01\r\u001b[K     |██▊                             | 30kB 34.0MB/s eta 0:00:01\r\u001b[K     |███▋                            | 40kB 36.3MB/s eta 0:00:01\r\u001b[K     |████▌                           | 51kB 17.1MB/s eta 0:00:01\r\u001b[K     |█████▍                          | 61kB 17.0MB/s eta 0:00:01\r\u001b[K     |██████▎                         | 71kB 14.8MB/s eta 0:00:01\r\u001b[K     |███████▏                        | 81kB 15.8MB/s eta 0:00:01\r\u001b[K     |████████                        | 92kB 14.9MB/s eta 0:00:01\r\u001b[K     |█████████                       | 102kB 14.3MB/s eta 0:00:01\r\u001b[K     |██████████                      | 112kB 14.3MB/s eta 0:00:01\r\u001b[K     |██████████▉                     | 122kB 14.3MB/s eta 0:00:01\r\u001b[K     |███████████▊                    | 133kB 14.3MB/s eta 0:00:01\r\u001b[K     |████████████▋                   | 143kB 14.3MB/s eta 0:00:01\r\u001b[K     |█████████████▌                  | 153kB 14.3MB/s eta 0:00:01\r\u001b[K     |██████████████▍                 | 163kB 14.3MB/s eta 0:00:01\r\u001b[K     |███████████████▎                | 174kB 14.3MB/s eta 0:00:01\r\u001b[K     |████████████████▏               | 184kB 14.3MB/s eta 0:00:01\r\u001b[K     |█████████████████               | 194kB 14.3MB/s eta 0:00:01\r\u001b[K     |██████████████████              | 204kB 14.3MB/s eta 0:00:01\r\u001b[K     |███████████████████             | 215kB 14.3MB/s eta 0:00:01\r\u001b[K     |███████████████████▉            | 225kB 14.3MB/s eta 0:00:01\r\u001b[K     |████████████████████▊           | 235kB 14.3MB/s eta 0:00:01\r\u001b[K     |█████████████████████▋          | 245kB 14.3MB/s eta 0:00:01\r\u001b[K     |██████████████████████▌         | 256kB 14.3MB/s eta 0:00:01\r\u001b[K     |███████████████████████▍        | 266kB 14.3MB/s eta 0:00:01\r\u001b[K     |████████████████████████▎       | 276kB 14.3MB/s eta 0:00:01\r\u001b[K     |█████████████████████████▏      | 286kB 14.3MB/s eta 0:00:01\r\u001b[K     |██████████████████████████      | 296kB 14.3MB/s eta 0:00:01\r\u001b[K     |███████████████████████████     | 307kB 14.3MB/s eta 0:00:01\r\u001b[K     |████████████████████████████    | 317kB 14.3MB/s eta 0:00:01\r\u001b[K     |████████████████████████████▉   | 327kB 14.3MB/s eta 0:00:01\r\u001b[K     |█████████████████████████████▊  | 337kB 14.3MB/s eta 0:00:01\r\u001b[K     |██████████████████████████████▋ | 348kB 14.3MB/s eta 0:00:01\r\u001b[K     |███████████████████████████████▌| 358kB 14.3MB/s eta 0:00:01\r\u001b[K     |████████████████████████████████| 368kB 14.3MB/s \n",
            "\u001b[?25hRequirement already satisfied: numpy>=1.10 in /usr/local/lib/python3.6/dist-packages (from hmmlearn) (1.18.5)\n",
            "Requirement already satisfied: scikit-learn>=0.16 in /usr/local/lib/python3.6/dist-packages (from hmmlearn) (0.22.2.post1)\n",
            "Requirement already satisfied: scipy>=0.15 in /usr/local/lib/python3.6/dist-packages (from hmmlearn) (1.4.1)\n",
            "Requirement already satisfied: joblib>=0.11 in /usr/local/lib/python3.6/dist-packages (from scikit-learn>=0.16->hmmlearn) (0.15.1)\n",
            "Installing collected packages: hmmlearn\n",
            "Successfully installed hmmlearn-0.2.3\n"
          ],
          "name": "stdout"
        }
      ]
    },
    {
      "cell_type": "code",
      "metadata": {
        "id": "LQ4Qt1yxZjbn",
        "colab_type": "code",
        "colab": {}
      },
      "source": [
        "%matplotlib inline\n",
        "\n",
        "import pylab\n",
        "import numpy as np\n",
        "import pandas as pd\n",
        "\n",
        "from hmmlearn.hmm import GaussianHMM"
      ],
      "execution_count": 10,
      "outputs": []
    },
    {
      "cell_type": "markdown",
      "metadata": {
        "id": "XGOWfM3EZjbq",
        "colab_type": "text"
      },
      "source": [
        "## Import data\n",
        "Read CSV file into \"df.\""
      ]
    },
    {
      "cell_type": "code",
      "metadata": {
        "id": "oyY8BsaxZjbr",
        "colab_type": "code",
        "colab": {
          "base_uri": "https://localhost:8080/",
          "height": 202
        },
        "outputId": "5457415d-48cc-4ba9-839f-9a002f38c850"
      },
      "source": [
        "df = pd.read_csv(\"speed.csv\", sep = \",\")\n",
        "df.head(5)"
      ],
      "execution_count": 12,
      "outputs": [
        {
          "output_type": "execute_result",
          "data": {
            "text/html": [
              "<div>\n",
              "<style scoped>\n",
              "    .dataframe tbody tr th:only-of-type {\n",
              "        vertical-align: middle;\n",
              "    }\n",
              "\n",
              "    .dataframe tbody tr th {\n",
              "        vertical-align: top;\n",
              "    }\n",
              "\n",
              "    .dataframe thead th {\n",
              "        text-align: right;\n",
              "    }\n",
              "</style>\n",
              "<table border=\"1\" class=\"dataframe\">\n",
              "  <thead>\n",
              "    <tr style=\"text-align: right;\">\n",
              "      <th></th>\n",
              "      <th>row</th>\n",
              "      <th>rt</th>\n",
              "      <th>corr</th>\n",
              "      <th>Pacc</th>\n",
              "      <th>prev</th>\n",
              "    </tr>\n",
              "  </thead>\n",
              "  <tbody>\n",
              "    <tr>\n",
              "      <th>0</th>\n",
              "      <td>1</td>\n",
              "      <td>6.456770</td>\n",
              "      <td>cor</td>\n",
              "      <td>0.0</td>\n",
              "      <td>inc</td>\n",
              "    </tr>\n",
              "    <tr>\n",
              "      <th>1</th>\n",
              "      <td>2</td>\n",
              "      <td>5.602119</td>\n",
              "      <td>cor</td>\n",
              "      <td>0.0</td>\n",
              "      <td>cor</td>\n",
              "    </tr>\n",
              "    <tr>\n",
              "      <th>2</th>\n",
              "      <td>3</td>\n",
              "      <td>6.253829</td>\n",
              "      <td>inc</td>\n",
              "      <td>0.0</td>\n",
              "      <td>cor</td>\n",
              "    </tr>\n",
              "    <tr>\n",
              "      <th>3</th>\n",
              "      <td>4</td>\n",
              "      <td>5.451038</td>\n",
              "      <td>inc</td>\n",
              "      <td>0.0</td>\n",
              "      <td>inc</td>\n",
              "    </tr>\n",
              "    <tr>\n",
              "      <th>4</th>\n",
              "      <td>5</td>\n",
              "      <td>5.872118</td>\n",
              "      <td>inc</td>\n",
              "      <td>0.0</td>\n",
              "      <td>inc</td>\n",
              "    </tr>\n",
              "  </tbody>\n",
              "</table>\n",
              "</div>"
            ],
            "text/plain": [
              "   row        rt corr  Pacc prev\n",
              "0    1  6.456770  cor   0.0  inc\n",
              "1    2  5.602119  cor   0.0  cor\n",
              "2    3  6.253829  inc   0.0  cor\n",
              "3    4  5.451038  inc   0.0  inc\n",
              "4    5  5.872118  inc   0.0  inc"
            ]
          },
          "metadata": {
            "tags": []
          },
          "execution_count": 12
        }
      ]
    },
    {
      "cell_type": "markdown",
      "metadata": {
        "id": "-0AAEib4Zjbv",
        "colab_type": "text"
      },
      "source": [
        "Drop the row number and \"corr\" so we can focus on the influence of \"prev\" and \"Pacc\" on \"rt.\" Also define \"prev\" as a factor."
      ]
    },
    {
      "cell_type": "code",
      "metadata": {
        "id": "GJN9-mqWZjbv",
        "colab_type": "code",
        "colab": {}
      },
      "source": [
        "x = df.drop([\"row\", \"corr\"], axis = 1)\n",
        "x[\"prev\"] = pd.factorize(x[\"prev\"])[0]"
      ],
      "execution_count": 14,
      "outputs": []
    },
    {
      "cell_type": "markdown",
      "metadata": {
        "id": "WGDp4kRuZjb0",
        "colab_type": "text"
      },
      "source": [
        "## Create model\n",
        "Make an HMM with 2 states. (The choice of 2 is based on theory.)"
      ]
    },
    {
      "cell_type": "code",
      "metadata": {
        "id": "L2aB5o9lZjb1",
        "colab_type": "code",
        "colab": {
          "base_uri": "https://localhost:8080/",
          "height": 139
        },
        "outputId": "cf793999-a14b-4e75-ce88-9e14562a64f9"
      },
      "source": [
        "model = GaussianHMM(n_components=2, n_iter=10000, random_state=1).fit(x)\n",
        "model.monitor_"
      ],
      "execution_count": 15,
      "outputs": [
        {
          "output_type": "execute_result",
          "data": {
            "text/plain": [
              "ConvergenceMonitor(\n",
              "    history=[-116.44940310316755, -116.4467051828074],\n",
              "    iter=8,\n",
              "    n_iter=10000,\n",
              "    tol=0.01,\n",
              "    verbose=False,\n",
              ")"
            ]
          },
          "metadata": {
            "tags": []
          },
          "execution_count": 15
        }
      ]
    },
    {
      "cell_type": "markdown",
      "metadata": {
        "id": "PhG6dfeyZjb3",
        "colab_type": "text"
      },
      "source": [
        "Predict the hidden state for each record and get count of predicted states."
      ]
    },
    {
      "cell_type": "code",
      "metadata": {
        "id": "HQqbIRjBZjb4",
        "colab_type": "code",
        "colab": {
          "base_uri": "https://localhost:8080/",
          "height": 69
        },
        "outputId": "df5102a8-7321-4c7b-aa16-97605d3e74d8"
      },
      "source": [
        "states = model.predict(x)\n",
        "pd.Series(states).value_counts()"
      ],
      "execution_count": 16,
      "outputs": [
        {
          "output_type": "execute_result",
          "data": {
            "text/plain": [
              "0    243\n",
              "1    196\n",
              "dtype: int64"
            ]
          },
          "metadata": {
            "tags": []
          },
          "execution_count": 16
        }
      ]
    },
    {
      "cell_type": "markdown",
      "metadata": {
        "id": "U3kXO5A7Zjb6",
        "colab_type": "text"
      },
      "source": [
        "Get the mean reaction time (rt) for each of the two states."
      ]
    },
    {
      "cell_type": "code",
      "metadata": {
        "id": "xm_8Hcr1Zjb6",
        "colab_type": "code",
        "colab": {
          "base_uri": "https://localhost:8080/",
          "height": 35
        },
        "outputId": "bb0f9b3f-de25-42cb-d485-bb2d6c67afab"
      },
      "source": [
        "model.means_[:, 0]"
      ],
      "execution_count": 17,
      "outputs": [
        {
          "output_type": "execute_result",
          "data": {
            "text/plain": [
              "array([6.40098754, 5.56434105])"
            ]
          },
          "metadata": {
            "tags": []
          },
          "execution_count": 17
        }
      ]
    },
    {
      "cell_type": "markdown",
      "metadata": {
        "id": "8ZW8WSLGZjb-",
        "colab_type": "text"
      },
      "source": [
        "## Visualize results\n",
        "Make a graph to show the change of states."
      ]
    },
    {
      "cell_type": "code",
      "metadata": {
        "id": "fja2s1yOZjb-",
        "colab_type": "code",
        "colab": {
          "base_uri": "https://localhost:8080/",
          "height": 109
        },
        "outputId": "e45c8069-0482-485a-d560-62336133c1a2"
      },
      "source": [
        "fig = pylab.figure(figsize=(20, 1))\n",
        "ax = fig.add_subplot(111)\n",
        "ax.grid(True)\n",
        "ax.set_xlabel(\"Record number\")\n",
        "ax.set_ylabel(\"State\")\n",
        "ax.plot(states)"
      ],
      "execution_count": 18,
      "outputs": [
        {
          "output_type": "execute_result",
          "data": {
            "text/plain": [
              "[<matplotlib.lines.Line2D at 0x7f6a6f58f7f0>]"
            ]
          },
          "metadata": {
            "tags": []
          },
          "execution_count": 18
        },
        {
          "output_type": "display_data",
          "data": {
            "image/png": "[encoded data removed]",
            "text/plain": [
              "<Figure size 1440x72 with 1 Axes>"
            ]
          },
          "metadata": {
            "tags": [],
            "needs_background": "light"
          }
        }
      ]
    }
  ]
}