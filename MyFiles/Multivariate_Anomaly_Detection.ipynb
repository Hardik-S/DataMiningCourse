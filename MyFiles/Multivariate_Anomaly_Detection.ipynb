{
  "nbformat": 4,
  "nbformat_minor": 0,
  "metadata": {
    "kernelspec": {
      "name": "python3",
      "display_name": "Python 3"
    },
    "colab": {
      "name": "Multivariate Anomaly Detection",
      "provenance": [],
      "toc_visible": true,
      "include_colab_link": true
    },
    "accelerator": "GPU"
  },
  "cells": [
    {
      "cell_type": "markdown",
      "metadata": {
        "id": "view-in-github",
        "colab_type": "text"
      },
      "source": [
        "<a href=\"https://colab.research.google.com/github/Hardik-S/DataMiningCourse/blob/master/Multivariate_Anomaly_Detection.ipynb\" target=\"_parent\"><img src=\"https://colab.research.google.com/assets/colab-badge.svg\" alt=\"Open In Colab\"/></a>"
      ]
    },
    {
      "cell_type": "markdown",
      "metadata": {
        "id": "t9oORE5YNwHi",
        "colab_type": "text"
      },
      "source": [
        "# DM_05_04"
      ]
    },
    {
      "cell_type": "markdown",
      "metadata": {
        "id": "LSxZG_2BNwHj",
        "colab_type": "text"
      },
      "source": [
        "## Import Libraries"
      ]
    },
    {
      "cell_type": "code",
      "metadata": {
        "id": "aGqC6uNWNwHj",
        "colab_type": "code",
        "colab": {}
      },
      "source": [
        "%matplotlib inline\n",
        "import pylab\n",
        "import numpy as np\n",
        "import pandas as pd\n",
        "from sklearn.svm import OneClassSVM\n",
        "from sklearn.covariance import EllipticEnvelope\n",
        "\n",
        "pylab.rcParams.update({'font.size': 14})"
      ],
      "execution_count": 1,
      "outputs": []
    },
    {
      "cell_type": "markdown",
      "metadata": {
        "id": "5_sUlFwwNwHn",
        "colab_type": "text"
      },
      "source": [
        "## Read CSV"
      ]
    },
    {
      "cell_type": "code",
      "metadata": {
        "id": "Zr67TnwqNwHn",
        "colab_type": "code",
        "colab": {
          "base_uri": "https://localhost:8080/",
          "height": 239
        },
        "outputId": "c8890fba-307b-47ff-86ce-2ed1322299aa"
      },
      "source": [
        "df = pd.read_csv(\"AnomalyData.csv\")\n",
        "df.head()"
      ],
      "execution_count": 2,
      "outputs": [
        {
          "output_type": "execute_result",
          "data": {
            "text/html": [
              "<div>\n",
              "<style scoped>\n",
              "    .dataframe tbody tr th:only-of-type {\n",
              "        vertical-align: middle;\n",
              "    }\n",
              "\n",
              "    .dataframe tbody tr th {\n",
              "        vertical-align: top;\n",
              "    }\n",
              "\n",
              "    .dataframe thead th {\n",
              "        text-align: right;\n",
              "    }\n",
              "</style>\n",
              "<table border=\"1\" class=\"dataframe\">\n",
              "  <thead>\n",
              "    <tr style=\"text-align: right;\">\n",
              "      <th></th>\n",
              "      <th>State</th>\n",
              "      <th>state_code</th>\n",
              "      <th>data science</th>\n",
              "      <th>cluster analysis</th>\n",
              "      <th>college</th>\n",
              "      <th>startup</th>\n",
              "      <th>entrepreneur</th>\n",
              "      <th>ceo</th>\n",
              "      <th>mortgage</th>\n",
              "      <th>nba</th>\n",
              "      <th>nfl</th>\n",
              "      <th>mlb</th>\n",
              "      <th>fifa</th>\n",
              "      <th>modern dance</th>\n",
              "      <th>prius</th>\n",
              "      <th>escalade</th>\n",
              "      <th>subaru</th>\n",
              "      <th>jello</th>\n",
              "      <th>bbq</th>\n",
              "      <th>royal family</th>\n",
              "      <th>obfuscation</th>\n",
              "      <th>unicorn</th>\n",
              "      <th>Extraversion</th>\n",
              "      <th>Agreeableness</th>\n",
              "      <th>Conscientiousness</th>\n",
              "      <th>Neuroticism</th>\n",
              "      <th>Openness</th>\n",
              "      <th>PsychRegions</th>\n",
              "      <th>region</th>\n",
              "      <th>division</th>\n",
              "    </tr>\n",
              "  </thead>\n",
              "  <tbody>\n",
              "    <tr>\n",
              "      <th>0</th>\n",
              "      <td>Alabama</td>\n",
              "      <td>AL</td>\n",
              "      <td>-1.00</td>\n",
              "      <td>-0.13</td>\n",
              "      <td>1.10</td>\n",
              "      <td>-0.68</td>\n",
              "      <td>0.15</td>\n",
              "      <td>-0.73</td>\n",
              "      <td>1.53</td>\n",
              "      <td>-0.74</td>\n",
              "      <td>-1.83</td>\n",
              "      <td>-1.30</td>\n",
              "      <td>-0.80</td>\n",
              "      <td>-1.22</td>\n",
              "      <td>-0.74</td>\n",
              "      <td>0.10</td>\n",
              "      <td>-1.19</td>\n",
              "      <td>-0.75</td>\n",
              "      <td>1.52</td>\n",
              "      <td>0.26</td>\n",
              "      <td>-0.32</td>\n",
              "      <td>-1.03</td>\n",
              "      <td>55.5</td>\n",
              "      <td>52.7</td>\n",
              "      <td>55.5</td>\n",
              "      <td>48.7</td>\n",
              "      <td>42.7</td>\n",
              "      <td>1</td>\n",
              "      <td>3</td>\n",
              "      <td>6</td>\n",
              "    </tr>\n",
              "    <tr>\n",
              "      <th>1</th>\n",
              "      <td>Arizona</td>\n",
              "      <td>AZ</td>\n",
              "      <td>-0.42</td>\n",
              "      <td>-0.73</td>\n",
              "      <td>-0.10</td>\n",
              "      <td>0.11</td>\n",
              "      <td>0.57</td>\n",
              "      <td>0.25</td>\n",
              "      <td>0.95</td>\n",
              "      <td>0.38</td>\n",
              "      <td>0.68</td>\n",
              "      <td>0.14</td>\n",
              "      <td>0.10</td>\n",
              "      <td>0.30</td>\n",
              "      <td>1.19</td>\n",
              "      <td>0.78</td>\n",
              "      <td>-0.70</td>\n",
              "      <td>-0.58</td>\n",
              "      <td>0.36</td>\n",
              "      <td>-1.06</td>\n",
              "      <td>0.38</td>\n",
              "      <td>0.10</td>\n",
              "      <td>50.6</td>\n",
              "      <td>46.6</td>\n",
              "      <td>58.4</td>\n",
              "      <td>38.1</td>\n",
              "      <td>54.7</td>\n",
              "      <td>2</td>\n",
              "      <td>4</td>\n",
              "      <td>8</td>\n",
              "    </tr>\n",
              "    <tr>\n",
              "      <th>2</th>\n",
              "      <td>Arkansas</td>\n",
              "      <td>AR</td>\n",
              "      <td>-0.66</td>\n",
              "      <td>-0.39</td>\n",
              "      <td>-0.64</td>\n",
              "      <td>-0.08</td>\n",
              "      <td>0.01</td>\n",
              "      <td>-0.66</td>\n",
              "      <td>-0.50</td>\n",
              "      <td>-0.71</td>\n",
              "      <td>-1.59</td>\n",
              "      <td>-1.24</td>\n",
              "      <td>-0.88</td>\n",
              "      <td>-1.36</td>\n",
              "      <td>-0.43</td>\n",
              "      <td>0.93</td>\n",
              "      <td>-0.79</td>\n",
              "      <td>-0.19</td>\n",
              "      <td>1.01</td>\n",
              "      <td>-0.09</td>\n",
              "      <td>-0.45</td>\n",
              "      <td>-0.32</td>\n",
              "      <td>49.9</td>\n",
              "      <td>52.7</td>\n",
              "      <td>41.0</td>\n",
              "      <td>56.2</td>\n",
              "      <td>40.3</td>\n",
              "      <td>1</td>\n",
              "      <td>3</td>\n",
              "      <td>7</td>\n",
              "    </tr>\n",
              "    <tr>\n",
              "      <th>3</th>\n",
              "      <td>California</td>\n",
              "      <td>CA</td>\n",
              "      <td>1.95</td>\n",
              "      <td>-0.62</td>\n",
              "      <td>-0.26</td>\n",
              "      <td>2.02</td>\n",
              "      <td>0.46</td>\n",
              "      <td>1.27</td>\n",
              "      <td>-0.97</td>\n",
              "      <td>1.46</td>\n",
              "      <td>-0.91</td>\n",
              "      <td>0.39</td>\n",
              "      <td>1.94</td>\n",
              "      <td>0.33</td>\n",
              "      <td>3.97</td>\n",
              "      <td>-0.28</td>\n",
              "      <td>-0.52</td>\n",
              "      <td>-1.21</td>\n",
              "      <td>1.37</td>\n",
              "      <td>-1.04</td>\n",
              "      <td>0.70</td>\n",
              "      <td>-0.38</td>\n",
              "      <td>51.4</td>\n",
              "      <td>49.0</td>\n",
              "      <td>43.2</td>\n",
              "      <td>39.1</td>\n",
              "      <td>65.0</td>\n",
              "      <td>2</td>\n",
              "      <td>4</td>\n",
              "      <td>9</td>\n",
              "    </tr>\n",
              "    <tr>\n",
              "      <th>4</th>\n",
              "      <td>Colorado</td>\n",
              "      <td>CO</td>\n",
              "      <td>0.34</td>\n",
              "      <td>0.00</td>\n",
              "      <td>-0.61</td>\n",
              "      <td>1.49</td>\n",
              "      <td>0.05</td>\n",
              "      <td>0.33</td>\n",
              "      <td>1.38</td>\n",
              "      <td>-0.80</td>\n",
              "      <td>1.17</td>\n",
              "      <td>-0.51</td>\n",
              "      <td>-0.33</td>\n",
              "      <td>-0.34</td>\n",
              "      <td>0.24</td>\n",
              "      <td>0.01</td>\n",
              "      <td>1.37</td>\n",
              "      <td>-0.55</td>\n",
              "      <td>0.63</td>\n",
              "      <td>-0.80</td>\n",
              "      <td>1.32</td>\n",
              "      <td>0.20</td>\n",
              "      <td>45.3</td>\n",
              "      <td>47.5</td>\n",
              "      <td>58.8</td>\n",
              "      <td>34.3</td>\n",
              "      <td>57.9</td>\n",
              "      <td>1</td>\n",
              "      <td>4</td>\n",
              "      <td>8</td>\n",
              "    </tr>\n",
              "  </tbody>\n",
              "</table>\n",
              "</div>"
            ],
            "text/plain": [
              "        State state_code  data science  ...  PsychRegions  region  division\n",
              "0     Alabama         AL         -1.00  ...             1       3         6\n",
              "1     Arizona         AZ         -0.42  ...             2       4         8\n",
              "2    Arkansas         AR         -0.66  ...             1       3         7\n",
              "3  California         CA          1.95  ...             2       4         9\n",
              "4    Colorado         CO          0.34  ...             1       4         8\n",
              "\n",
              "[5 rows x 30 columns]"
            ]
          },
          "metadata": {
            "tags": []
          },
          "execution_count": 2
        }
      ]
    },
    {
      "cell_type": "markdown",
      "metadata": {
        "id": "c6KhIs9gNwHq",
        "colab_type": "text"
      },
      "source": [
        "Save state_code to label outliers. \"data\" contains just quantitative variables."
      ]
    },
    {
      "cell_type": "code",
      "metadata": {
        "id": "SYTd96gZNwHq",
        "colab_type": "code",
        "colab": {}
      },
      "source": [
        "state_code = df[\"state_code\"]\n",
        "data = df.loc[:, \"data science\": \"Openness\"]"
      ],
      "execution_count": 3,
      "outputs": []
    },
    {
      "cell_type": "markdown",
      "metadata": {
        "id": "oRnYZ3bCNwHt",
        "colab_type": "text"
      },
      "source": [
        "## Univariate Outliers \n",
        "Create a box plot to display univariate outliers on \"modern dance.\""
      ]
    },
    {
      "cell_type": "code",
      "metadata": {
        "id": "lDwL9qr5NwHw",
        "colab_type": "code",
        "colab": {}
      },
      "source": [
        "param = \"modern dance\""
      ],
      "execution_count": 4,
      "outputs": []
    },
    {
      "cell_type": "markdown",
      "metadata": {
        "id": "x4ZLzDBDNwHz",
        "colab_type": "text"
      },
      "source": [
        "Get quantile values and IQR for outlier limits."
      ]
    },
    {
      "cell_type": "code",
      "metadata": {
        "id": "yv9dZjXONwHz",
        "colab_type": "code",
        "colab": {}
      },
      "source": [
        "qv1 = data[param].quantile(0.25)\n",
        "qv2 = data[param].quantile(0.5)\n",
        "qv3 = data[param].quantile(0.75)\n",
        "qv_limit = 1.5 * (qv3 - qv1)"
      ],
      "execution_count": 5,
      "outputs": []
    },
    {
      "cell_type": "markdown",
      "metadata": {
        "id": "rEYBmoTUNwH2",
        "colab_type": "text"
      },
      "source": [
        "Get positions of outliers and use state_code for labels."
      ]
    },
    {
      "cell_type": "code",
      "metadata": {
        "id": "lsN2iSoxNwH2",
        "colab_type": "code",
        "colab": {}
      },
      "source": [
        "un_outliers_mask = (data[param] > qv3 + qv_limit) | (data[param] < qv1 - qv_limit)\n",
        "un_outliers_data = data[param][un_outliers_mask]\n",
        "un_outliers_name = state_code[un_outliers_mask]"
      ],
      "execution_count": 6,
      "outputs": []
    },
    {
      "cell_type": "markdown",
      "metadata": {
        "id": "WSl2Q0csNwH5",
        "colab_type": "text"
      },
      "source": [
        "Create box plot for \"modern dance.\""
      ]
    },
    {
      "cell_type": "code",
      "metadata": {
        "id": "SStTg4l-NwH5",
        "colab_type": "code",
        "colab": {
          "base_uri": "https://localhost:8080/",
          "height": 391
        },
        "outputId": "059aa448-05cb-4e9b-e5e7-0720ade36016"
      },
      "source": [
        "fig = pylab.figure(figsize=(4,6))\n",
        "ax = fig.add_subplot(1, 1, 1)\n",
        "for name, y in zip(un_outliers_name, un_outliers_data):\n",
        "    ax.text(1, y, name)\n",
        "ax.boxplot(data[param])\n",
        "ax.set_ylabel(param)"
      ],
      "execution_count": 7,
      "outputs": [
        {
          "output_type": "execute_result",
          "data": {
            "text/plain": [
              "Text(0, 0.5, 'modern dance')"
            ]
          },
          "metadata": {
            "tags": []
          },
          "execution_count": 7
        },
        {
          "output_type": "display_data",
          "data": {
            "image/png": "[encoded data removed]",
            "text/plain": [
              "<Figure size 288x432 with 1 Axes>"
            ]
          },
          "metadata": {
            "tags": [],
            "needs_background": "light"
          }
        }
      ]
    },
    {
      "cell_type": "markdown",
      "metadata": {
        "id": "_O5v0SiLNwH8",
        "colab_type": "text"
      },
      "source": [
        "##  Bivariate Outliers\n",
        "Create a scatterplot with an ellipse as a boundary for outliers.\n",
        "\n",
        "Use the Google search terms \"data science\" and \"ceo\" for this example."
      ]
    },
    {
      "cell_type": "code",
      "metadata": {
        "id": "0nglJADbNwH8",
        "colab_type": "code",
        "colab": {}
      },
      "source": [
        "params = [\"data science\", \"ceo\"]\n",
        "params_data = np.array([df[params[0]], df[params[1]]]).T"
      ],
      "execution_count": 8,
      "outputs": []
    },
    {
      "cell_type": "markdown",
      "metadata": {
        "id": "RTvLw5kFNwH-",
        "colab_type": "text"
      },
      "source": [
        "Compute the \"elliptical envelope.\""
      ]
    },
    {
      "cell_type": "code",
      "metadata": {
        "id": "B7qnwHTJNwH_",
        "colab_type": "code",
        "colab": {
          "base_uri": "https://localhost:8080/",
          "height": 52
        },
        "outputId": "be99f2c7-cd4b-4338-8feb-1c68167cd3a0"
      },
      "source": [
        "ee = EllipticEnvelope()\n",
        "ee.fit(params_data)"
      ],
      "execution_count": 9,
      "outputs": [
        {
          "output_type": "execute_result",
          "data": {
            "text/plain": [
              "EllipticEnvelope(assume_centered=False, contamination=0.1, random_state=None,\n",
              "                 store_precision=True, support_fraction=None)"
            ]
          },
          "metadata": {
            "tags": []
          },
          "execution_count": 9
        }
      ]
    },
    {
      "cell_type": "markdown",
      "metadata": {
        "id": "5IZWY5UrNwIB",
        "colab_type": "text"
      },
      "source": [
        "Get the names and positions of outliers."
      ]
    },
    {
      "cell_type": "code",
      "metadata": {
        "id": "JGiJ1I1FNwIC",
        "colab_type": "code",
        "colab": {}
      },
      "source": [
        "biv_outliers_mask = ee.predict(params_data) == -1\n",
        "biv_outliers_data = params_data[biv_outliers_mask]\n",
        "biv_outliers_name = state_code[biv_outliers_mask]"
      ],
      "execution_count": 10,
      "outputs": []
    },
    {
      "cell_type": "markdown",
      "metadata": {
        "id": "mkSPiLKvNwIE",
        "colab_type": "text"
      },
      "source": [
        "Calculate the decision boundary for the scatterplot."
      ]
    },
    {
      "cell_type": "code",
      "metadata": {
        "id": "2jrV70hSNwIE",
        "colab_type": "code",
        "colab": {}
      },
      "source": [
        "xx, yy = np.meshgrid(np.linspace(params_data[:, 0].min(), params_data[:, 0].max(), 100),\n",
        "                     np.linspace(params_data[:, 1].min(), params_data[:, 1].max(), 100))\n",
        "zz = ee.decision_function(np.c_[xx.ravel(), yy.ravel()])\n",
        "zz = zz.reshape(xx.shape)"
      ],
      "execution_count": 11,
      "outputs": []
    },
    {
      "cell_type": "markdown",
      "metadata": {
        "id": "MVdfpC2sNwIH",
        "colab_type": "text"
      },
      "source": [
        "Draw the scatterplot with the elliptical envelope and label the outliers."
      ]
    },
    {
      "cell_type": "code",
      "metadata": {
        "id": "GpJ4Ht0tNwIH",
        "colab_type": "code",
        "colab": {
          "base_uri": "https://localhost:8080/",
          "height": 623
        },
        "outputId": "25a6f3ee-7976-462b-fae3-56af1ede0d58"
      },
      "source": [
        "fig = pylab.figure(figsize=(10,10))\n",
        "ax = fig.add_subplot(1, 1, 1)\n",
        "for name, xy in zip(biv_outliers_name, biv_outliers_data):\n",
        "    ax.text(xy[0], xy[1], name)\n",
        "ax.contour(xx, yy, zz, levels=[0], linewidths=2)\n",
        "ax.scatter(params_data[:, 0], params_data[:, 1], color='black')\n",
        "ax.set_xlabel(params[0])\n",
        "ax.set_ylabel(params[1])"
      ],
      "execution_count": 12,
      "outputs": [
        {
          "output_type": "execute_result",
          "data": {
            "text/plain": [
              "Text(0, 0.5, 'ceo')"
            ]
          },
          "metadata": {
            "tags": []
          },
          "execution_count": 12
        },
        {
          "output_type": "display_data",
          "data": {
            "image/png": "[encoded data removed]",
            "text/plain": [
              "<Figure size 720x720 with 1 Axes>"
            ]
          },
          "metadata": {
            "tags": [],
            "needs_background": "light"
          }
        }
      ]
    },
    {
      "cell_type": "markdown",
      "metadata": {
        "id": "O3dX9te-NwIK",
        "colab_type": "text"
      },
      "source": [
        "##  Multivariate Outliers\n",
        "Use the one-class support vector machine (SVM) algorithm to classify unusual cases."
      ]
    },
    {
      "cell_type": "code",
      "metadata": {
        "id": "3TE9PiR-NwIK",
        "colab_type": "code",
        "colab": {
          "base_uri": "https://localhost:8080/",
          "height": 52
        },
        "outputId": "97a1aa75-bdc8-4234-f5d4-f2ee5c13e422"
      },
      "source": [
        "ocsvm = OneClassSVM(nu=0.25, gamma=0.05)\n",
        "ocsvm.fit(data)"
      ],
      "execution_count": 13,
      "outputs": [
        {
          "output_type": "execute_result",
          "data": {
            "text/plain": [
              "OneClassSVM(cache_size=200, coef0=0.0, degree=3, gamma=0.05, kernel='rbf',\n",
              "            max_iter=-1, nu=0.25, shrinking=True, tol=0.001, verbose=False)"
            ]
          },
          "metadata": {
            "tags": []
          },
          "execution_count": 13
        }
      ]
    },
    {
      "cell_type": "markdown",
      "metadata": {
        "id": "7Hu6sMLENwIN",
        "colab_type": "text"
      },
      "source": [
        "List the names of the outlying states based on the one-class SVM."
      ]
    },
    {
      "cell_type": "code",
      "metadata": {
        "id": "ldjKcP_iNwIN",
        "colab_type": "code",
        "colab": {
          "base_uri": "https://localhost:8080/",
          "height": 329
        },
        "outputId": "610a5b7b-71b7-4f11-d72e-ddb8b59dea37"
      },
      "source": [
        "# \n",
        "state_code[ocsvm.predict(data) == -1]"
      ],
      "execution_count": 14,
      "outputs": [
        {
          "output_type": "execute_result",
          "data": {
            "text/plain": [
              "7     FL\n",
              "13    KS\n",
              "14    KY\n",
              "16    ME\n",
              "17    MD\n",
              "18    MA\n",
              "19    MI\n",
              "20    MN\n",
              "21    MS\n",
              "24    NE\n",
              "25    NV\n",
              "27    NJ\n",
              "28    NM\n",
              "30    NC\n",
              "33    OK\n",
              "39    TN\n",
              "43    VA\n",
              "Name: state_code, dtype: object"
            ]
          },
          "metadata": {
            "tags": []
          },
          "execution_count": 14
        }
      ]
    }
  ]
}